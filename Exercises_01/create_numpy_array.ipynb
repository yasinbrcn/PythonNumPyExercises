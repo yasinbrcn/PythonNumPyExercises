{
 "cells": [
  {
   "cell_type": "markdown",
   "id": "1f7bb28d-0e7e-4ba6-945a-52f07687f34c",
   "metadata": {},
   "source": [
    "## Creating a User Interactive Numpy Array"
   ]
  },
  {
   "cell_type": "markdown",
   "id": "71388aac-79d2-4d75-9cf7-fa2c9520f539",
   "metadata": {},
   "source": [
    "##### The purpose of this project, creating is to one-dimensional array or two-dimensional array with user interaction."
   ]
  },
  {
   "cell_type": "markdown",
   "id": "be22844c-2386-4a64-8172-6375c135d2d0",
   "metadata": {},
   "source": [
    "Firstly, requested to enter the row number and column number from user. Data received from the user sended to **\"checkNumber\"** function. This function is used to allow the user to enter only integer values."
   ]
  },
  {
   "cell_type": "code",
   "execution_count": null,
   "id": "caf6a9f1-d7a2-4d79-bf00-3848cf0e513a",
   "metadata": {},
   "outputs": [],
   "source": [
    "while key == 1:    \n",
    "    row_value = input(\"Please enter a row number:\")\n",
    "    key = checkNumber(row_value)\n",
    "while key2 == 1:\n",
    "    column_value = input(\"Please enter a column number:\")\n",
    "    key2 = checkNumber(column_value)"
   ]
  },
  {
   "cell_type": "markdown",
   "id": "7bf2f665-724e-4d6f-b006-20ed247b4ed4",
   "metadata": {},
   "source": [
    "The data received from the user send to the method named **\"r_number\"**. </br>\n",
    "First of all, it is checked whether the value in the function is an integer. If the value is an integer value, the function returns 0. If the value is not an integer, it is checked whether it is a float or not. If this condition is not met, it is checked whether the value is a string or not. If the entered value is of type float or string, an error message is displayed and the function returns 1. This process is repeated until the user enters the desired type of value."
   ]
  },
  {
   "cell_type": "code",
   "execution_count": null,
   "id": "35648a46-bf9c-451a-aa6f-5652273be738",
   "metadata": {},
   "outputs": [],
   "source": [
    "def checkNumber(r_number):\n",
    "    try:\n",
    "        r_number = int(r_number)\n",
    "        r_number_check = 0\n",
    "    except:\n",
    "        try:\n",
    "            r_number = float(r_number)\n",
    "            print(\"Please enter integer value only. Not float value.\")\n",
    "            r_number_check = 1\n",
    "        except:\n",
    "            print(\"Please enter integer value only. Not string value.\")\n",
    "            r_number_check = 1\n",
    "    return r_number_check"
   ]
  },
  {
   "cell_type": "markdown",
   "id": "a158661d-fdf0-4146-9365-2baed5a01a06",
   "metadata": {},
   "source": [
    "If the user has entered the row and column values of the desired type, the code branches into the **\"createNumPyArray\"** function. </br> The user is prompted to enter the matrix values. This is process done with a nested for loop. With the other for loop, the type numbers of the values entered by the user are obtained. If the user has entered even one str type value, the data type of the matrix is set to str. The same is true for the float type. After this function, the code branches into the **\"writeArray\"** function."
   ]
  },
  {
   "cell_type": "code",
   "execution_count": 1,
   "id": "3f67cdae-0c28-4ae5-8d14-4d6bf41a7632",
   "metadata": {},
   "outputs": [],
   "source": [
    "def createNumpyArray(r_row_value,r_column_value):\n",
    "    numpy_array_values = []\n",
    "    int_values = 0\n",
    "    float_values = 0\n",
    "    str_values = 0\n",
    "    data_type = \"none\"\n",
    "    r_row_value = int(r_row_value)\n",
    "    r_column_value = int(r_column_value)\n",
    "    \n",
    "    for j in range (1,(r_row_value+1)):\n",
    "        for k in range (1,(r_column_value+1)):\n",
    "            numpy_array_values.append(input(\"Please enter the \"+str(j)+\".row \"+str(k)+\".column value:\"))\n",
    "    for l in range((r_row_value*r_column_value)):\n",
    "        try:\n",
    "            numpy_array_values[l] = int(numpy_array_values[l])\n",
    "            int_values = int_values + 1\n",
    "        except:\n",
    "            try:\n",
    "                numpy_array_values[l] = float(numpy_array_values[l])\n",
    "                float_values = float_values + 1\n",
    "            except:\n",
    "                str_values = str_values + 1\n",
    "    if str_values > 0:\n",
    "        data_type = \"str\"\n",
    "        writeArray(numpy_array_values,data_type,r_row_value,r_column_value)\n",
    "    elif float_values > 0:\n",
    "        data_type = \"float\"\n",
    "        writeArray(numpy_array_values,data_type,r_row_value,r_column_value)\n",
    "    else:\n",
    "        data_type = \"int\"\n",
    "        writeArray(numpy_array_values,data_type,r_row_value,r_column_value)"
   ]
  },
  {
   "cell_type": "markdown",
   "id": "4f8b3767-6097-465b-a530-270df6d94443",
   "metadata": {},
   "source": [
    "In this function, a one-dimensional numpy array is created using the matrix values received from the user. Then, by using the **\"reshape\"** function, resizing is done according to the row and column values entered by the user at the beginning of the program. Thus, a matrix is created with the size and values that the user wants."
   ]
  },
  {
   "cell_type": "code",
   "execution_count": null,
   "id": "7b05483e-7a47-4571-8ce2-5e1dffd29fc6",
   "metadata": {},
   "outputs": [],
   "source": [
    "def writeArray(r_numpy_array_values,r_data_type,rw_row_value,rw_column_value):\n",
    "    np_raw_array = np.array(r_numpy_array_values,dtype=r_data_type)\n",
    "    np_array = np_raw_array.reshape([rw_row_value,rw_column_value])\n",
    "    print(\"Created Array:\" + \"\\n\" + str(np_array))"
   ]
  }
 ],
 "metadata": {
  "kernelspec": {
   "display_name": "Python 3 (ipykernel)",
   "language": "python",
   "name": "python3"
  },
  "language_info": {
   "codemirror_mode": {
    "name": "ipython",
    "version": 3
   },
   "file_extension": ".py",
   "mimetype": "text/x-python",
   "name": "python",
   "nbconvert_exporter": "python",
   "pygments_lexer": "ipython3",
   "version": "3.8.8"
  }
 },
 "nbformat": 4,
 "nbformat_minor": 5
}
