{
 "cells": [
  {
   "cell_type": "markdown",
   "id": "1f7bb28d-0e7e-4ba6-945a-52f07687f34c",
   "metadata": {},
   "source": [
    "**Creating User Interactive Numpy Array**"
   ]
  },
  {
   "cell_type": "code",
   "execution_count": null,
   "id": "caf6a9f1-d7a2-4d79-bf00-3848cf0e513a",
   "metadata": {},
   "outputs": [],
   "source": [
    "while key == 1:    \n",
    "    row_value = input(\"Please enter a row number:\")\n",
    "    key = checkNumber(row_value)\n",
    "while key2 == 1:\n",
    "    column_value = input(\"Please enter a column number:\")\n",
    "    key2 = checkNumber(column_value)"
   ]
  }
 ],
 "metadata": {
  "kernelspec": {
   "display_name": "Python 3 (ipykernel)",
   "language": "python",
   "name": "python3"
  },
  "language_info": {
   "codemirror_mode": {
    "name": "ipython",
    "version": 3
   },
   "file_extension": ".py",
   "mimetype": "text/x-python",
   "name": "python",
   "nbconvert_exporter": "python",
   "pygments_lexer": "ipython3",
   "version": "3.8.8"
  }
 },
 "nbformat": 4,
 "nbformat_minor": 5
}
