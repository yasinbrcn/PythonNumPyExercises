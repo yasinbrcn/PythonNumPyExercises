{
 "cells": [
  {
   "cell_type": "markdown",
   "id": "144aacd8-ebaa-4545-83d8-9a7e513c4746",
   "metadata": {},
   "source": [
    "## Methods of Create NumPy Array\n",
    "### .Method_1: np.zeros()\n",
    "**np.zeros():** This method use for create a array with all elements are zero.<br/>\n",
    "**Example_1:** Create a 10 elements array with all elements zeros."
   ]
  },
  {
   "cell_type": "code",
   "execution_count": 1,
   "id": "de449e05-c809-4f0d-bb44-645ac98c95d0",
   "metadata": {},
   "outputs": [
    {
     "name": "stdout",
     "output_type": "stream",
     "text": [
      "[0. 0. 0. 0. 0. 0. 0. 0. 0. 0.]\n"
     ]
    }
   ],
   "source": [
    "import numpy as np\n",
    "print(np.zeros(10))"
   ]
  },
  {
   "cell_type": "markdown",
   "id": "e931bd3c-31f9-42ec-a4fe-9d1950fed8be",
   "metadata": {},
   "source": [
    "**Example_2:** Create a 10 elements array with all elements zeros. Let the data type be \"int\"."
   ]
  },
  {
   "cell_type": "code",
   "execution_count": 2,
   "id": "e5cb1fb4-2653-48a3-b023-22a040360ab5",
   "metadata": {},
   "outputs": [
    {
     "name": "stdout",
     "output_type": "stream",
     "text": [
      "[0 0 0 0 0 0 0 0 0 0]\n"
     ]
    }
   ],
   "source": [
    "import numpy as np\n",
    "print(np.zeros(10,dtype=\"int\"))"
   ]
  },
  {
   "cell_type": "markdown",
   "id": "1f2fb72f-4481-4bc1-ab96-11b792b47a4c",
   "metadata": {},
   "source": [
    "**Example_3:** Create a 10 elements array with all elements zeros. Let the array be created from 3 rows and 5 columns."
   ]
  },
  {
   "cell_type": "code",
   "execution_count": 3,
   "id": "1155fc1c-97f6-480b-9ae8-2247902c0b53",
   "metadata": {},
   "outputs": [
    {
     "name": "stdout",
     "output_type": "stream",
     "text": [
      "[[0 0 0 0 0]\n",
      " [0 0 0 0 0]\n",
      " [0 0 0 0 0]]\n"
     ]
    }
   ],
   "source": [
    "import numpy as np\n",
    "print(np.zeros((3,5),dtype=\"int\"))"
   ]
  },
  {
   "cell_type": "markdown",
   "id": "0de16c0b-372c-405c-b44c-6ce8c66db8cf",
   "metadata": {},
   "source": [
    "### .Method_2: np.ones()\n",
    "**np.ones():** This method use for create an array with all elements are ones.<br/>\n",
    "**Example_1:** Create a 10 elements array with all elements ones."
   ]
  },
  {
   "cell_type": "code",
   "execution_count": 4,
   "id": "1b5295c1-e391-4cab-adc8-faccb2baa835",
   "metadata": {},
   "outputs": [
    {
     "name": "stdout",
     "output_type": "stream",
     "text": [
      "[1 1 1 1 1 1 1 1 1 1]\n"
     ]
    }
   ],
   "source": [
    "import numpy as np\n",
    "print(np.ones(10,dtype=\"int\"))"
   ]
  },
  {
   "cell_type": "markdown",
   "id": "38edfd74-3e8a-4a71-9fbb-4351fc4921f4",
   "metadata": {},
   "source": [
    "**Example_2:** Create a 10 elements array with all elements ones. Let the array be created from 2 rows and 4 columns."
   ]
  },
  {
   "cell_type": "code",
   "execution_count": 5,
   "id": "a224a95d-2bd7-4c4b-aed7-de0431b616bd",
   "metadata": {},
   "outputs": [
    {
     "name": "stdout",
     "output_type": "stream",
     "text": [
      "[[1 1 1 1]\n",
      " [1 1 1 1]]\n"
     ]
    }
   ],
   "source": [
    "import numpy as np\n",
    "print(np.ones((2,4),dtype=\"int\"))"
   ]
  },
  {
   "cell_type": "markdown",
   "id": "f7a54173-cacf-47c6-88a9-7990ee8297c0",
   "metadata": {},
   "source": [
    "### .Method_3: np.full()\n",
    "**np.full():** This method is use for create an array of only a certain number.<br/>\n",
    "**Example_1:** Create a 10 elements array with all elements threes."
   ]
  },
  {
   "cell_type": "code",
   "execution_count": 6,
   "id": "f47d70ff-54ca-467c-80b8-77e386224c6f",
   "metadata": {},
   "outputs": [
    {
     "name": "stdout",
     "output_type": "stream",
     "text": [
      "[3 3 3 3 3 3 3 3 3 3]\n"
     ]
    }
   ],
   "source": [
    "import numpy as np\n",
    "print(np.full(10,3,dtype=\"int\"))"
   ]
  },
  {
   "cell_type": "markdown",
   "id": "aa4696ed-2ba9-44d0-beb5-ff8198946b6f",
   "metadata": {},
   "source": [
    "**Example_2:** Create a 10 elements array with all elements threes. Let the array be created from 2 rows and 4 columns."
   ]
  },
  {
   "cell_type": "code",
   "execution_count": 7,
   "id": "cfdd0bb9-47ca-4521-a7ad-5f4cc45fb95e",
   "metadata": {},
   "outputs": [
    {
     "name": "stdout",
     "output_type": "stream",
     "text": [
      "[[3 3 3 3]\n",
      " [3 3 3 3]]\n"
     ]
    }
   ],
   "source": [
    "import numpy as np\n",
    "print(np.full((2,4),3))"
   ]
  },
  {
   "cell_type": "markdown",
   "id": "ba5be4e4-0282-4bfb-ad93-d4edab561a51",
   "metadata": {},
   "source": [
    "### .Method_4: np.arange()\n",
    "**np.arange():** This method is use for create a linear array.<br/>\n",
    "**Example:** Let's create a sequence between 0 and 40 that increases by 2 by 2."
   ]
  },
  {
   "cell_type": "code",
   "execution_count": 8,
   "id": "fe407848-b6b1-4621-b309-25ec5e954fc1",
   "metadata": {},
   "outputs": [
    {
     "name": "stdout",
     "output_type": "stream",
     "text": [
      "[ 0  2  4  6  8 10 12 14 16 18 20 22 24 26 28 30 32 34 36 38 40]\n"
     ]
    }
   ],
   "source": [
    "import numpy as np\n",
    "print(np.arange(0,41,2))"
   ]
  },
  {
   "cell_type": "markdown",
   "id": "066eceb3-98d5-4a9d-98e0-ec0251cf4c89",
   "metadata": {},
   "source": [
    "### .Method_5: np.linspace()\n",
    "**np.linspace():** This method is use for create values certain numbers of between two value.<br/>\n",
    "**Example:** Let's create 10 values at between 1 and 2."
   ]
  },
  {
   "cell_type": "code",
   "execution_count": 9,
   "id": "5e809bc7-558a-4d5e-92c7-d8319cb8b738",
   "metadata": {},
   "outputs": [
    {
     "name": "stdout",
     "output_type": "stream",
     "text": [
      "[1.         1.11111111 1.22222222 1.33333333 1.44444444 1.55555556\n",
      " 1.66666667 1.77777778 1.88888889 2.        ]\n"
     ]
    }
   ],
   "source": [
    "import numpy as np\n",
    "print(np.linspace(1,2,10))"
   ]
  },
  {
   "cell_type": "markdown",
   "id": "ff28927f-ae1a-4ff9-8354-400d8eb89f7d",
   "metadata": {},
   "source": [
    "### .Method_6: np.random.normal()\n",
    "**np.random.normal():** Values with a certain distribution structure are created.<br/>\n",
    "**Example:** Let's create an array of 2 rows and 4 columns with a mean of 4 and a standard deviation of 2."
   ]
  },
  {
   "cell_type": "code",
   "execution_count": 10,
   "id": "d63f7678-50fb-4062-9df1-61ebd29361f4",
   "metadata": {},
   "outputs": [
    {
     "name": "stdout",
     "output_type": "stream",
     "text": [
      "[[ 4.8224664  10.70492553  3.85531946  4.38286324]\n",
      " [ 4.67835508  3.0213661   1.63812177 -0.25882068]]\n"
     ]
    }
   ],
   "source": [
    "import numpy as np\n",
    "print(np.random.normal(4,2,(2,4)))"
   ]
  },
  {
   "cell_type": "markdown",
   "id": "67e3436c-d808-4d0b-8d25-765aa1aa184e",
   "metadata": {},
   "source": [
    "### .Method_7: np.random.randint()\n",
    "**np.random.randint():** It is used to generate a random value between two values.<br/>\n",
    "**Example:** Let's create an array of 2 rows and 4 columns with random values between 0 and 10."
   ]
  },
  {
   "cell_type": "code",
   "execution_count": 11,
   "id": "da9f1b21-7f1f-4d2b-8a0a-587f03ac7393",
   "metadata": {},
   "outputs": [
    {
     "name": "stdout",
     "output_type": "stream",
     "text": [
      "[[8 7 7 2]\n",
      " [2 9 7 2]]\n"
     ]
    }
   ],
   "source": [
    "import numpy as np\n",
    "print(np.random.randint(0,10,(2,4)))"
   ]
  },
  {
   "cell_type": "code",
   "execution_count": null,
   "id": "a516b1cb-1d82-4df6-be78-b56af923a552",
   "metadata": {},
   "outputs": [],
   "source": []
  }
 ],
 "metadata": {
  "kernelspec": {
   "display_name": "Python 3 (ipykernel)",
   "language": "python",
   "name": "python3"
  },
  "language_info": {
   "codemirror_mode": {
    "name": "ipython",
    "version": 3
   },
   "file_extension": ".py",
   "mimetype": "text/x-python",
   "name": "python",
   "nbconvert_exporter": "python",
   "pygments_lexer": "ipython3",
   "version": "3.8.8"
  }
 },
 "nbformat": 4,
 "nbformat_minor": 5
}
