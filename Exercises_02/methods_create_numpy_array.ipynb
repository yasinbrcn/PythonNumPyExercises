{
 "cells": [
  {
   "cell_type": "markdown",
   "id": "144aacd8-ebaa-4545-83d8-9a7e513c4746",
   "metadata": {},
   "source": [
    "## Methods of Create NumPy Array\n",
    "### .Method_1: np.zeros()\n",
    "**np.zeros():** This method use for create a array with all elements are zero.<br/>\n",
    "**Example_1:** Create a 10 elements array with all elements zeros."
   ]
  },
  {
   "cell_type": "code",
   "execution_count": 1,
   "id": "de449e05-c809-4f0d-bb44-645ac98c95d0",
   "metadata": {},
   "outputs": [
    {
     "name": "stdout",
     "output_type": "stream",
     "text": [
      "[0. 0. 0. 0. 0. 0. 0. 0. 0. 0.]\n"
     ]
    }
   ],
   "source": [
    "import numpy as np\n",
    "print(np.zeros(10))"
   ]
  },
  {
   "cell_type": "markdown",
   "id": "e931bd3c-31f9-42ec-a4fe-9d1950fed8be",
   "metadata": {},
   "source": [
    "**Example_2:** Create a 10 elements array with all elements zeros. Let the data type be \"int\"."
   ]
  },
  {
   "cell_type": "code",
   "execution_count": 2,
   "id": "e5cb1fb4-2653-48a3-b023-22a040360ab5",
   "metadata": {},
   "outputs": [
    {
     "name": "stdout",
     "output_type": "stream",
     "text": [
      "[0 0 0 0 0 0 0 0 0 0]\n"
     ]
    }
   ],
   "source": [
    "import numpy as np\n",
    "print(np.zeros(10,dtype=\"int\"))"
   ]
  },
  {
   "cell_type": "markdown",
   "id": "1f2fb72f-4481-4bc1-ab96-11b792b47a4c",
   "metadata": {},
   "source": [
    "**Example_3:** Create a 10 elements array with all elements zeros. Let the array be created from 3 rows and 5 columns."
   ]
  },
  {
   "cell_type": "code",
   "execution_count": 3,
   "id": "1155fc1c-97f6-480b-9ae8-2247902c0b53",
   "metadata": {},
   "outputs": [
    {
     "name": "stdout",
     "output_type": "stream",
     "text": [
      "[[0 0 0 0 0]\n",
      " [0 0 0 0 0]\n",
      " [0 0 0 0 0]]\n"
     ]
    }
   ],
   "source": [
    "import numpy as np\n",
    "print(np.zeros((3,5),dtype=\"int\"))"
   ]
  },
  {
   "cell_type": "markdown",
   "id": "0de16c0b-372c-405c-b44c-6ce8c66db8cf",
   "metadata": {},
   "source": [
    "### .Method_2: np.ones()\n",
    "**np.ones():** This method use for create a array with all elements are ones.<br/>\n",
    "**Example_1:** Create a 10 elements array with all elements ones."
   ]
  },
  {
   "cell_type": "code",
   "execution_count": 4,
   "id": "1b5295c1-e391-4cab-adc8-faccb2baa835",
   "metadata": {},
   "outputs": [
    {
     "name": "stdout",
     "output_type": "stream",
     "text": [
      "[1 1 1 1 1 1 1 1 1 1]\n"
     ]
    }
   ],
   "source": [
    "import numpy as np\n",
    "print(np.ones(10,dtype=\"int\"))"
   ]
  },
  {
   "cell_type": "markdown",
   "id": "38edfd74-3e8a-4a71-9fbb-4351fc4921f4",
   "metadata": {},
   "source": [
    "**Example_2:** Create a 10 elements array with all elements ones. Let the array be created from 2 rows and 4 columns."
   ]
  },
  {
   "cell_type": "code",
   "execution_count": 5,
   "id": "a224a95d-2bd7-4c4b-aed7-de0431b616bd",
   "metadata": {},
   "outputs": [
    {
     "name": "stdout",
     "output_type": "stream",
     "text": [
      "[[1 1 1 1]\n",
      " [1 1 1 1]]\n"
     ]
    }
   ],
   "source": [
    "import numpy as np\n",
    "print(np.ones((2,4),dtype=\"int\"))"
   ]
  },
  {
   "cell_type": "code",
   "execution_count": null,
   "id": "cdda45ec-f6e0-487f-b80a-b64ca7e989d1",
   "metadata": {},
   "outputs": [],
   "source": []
  }
 ],
 "metadata": {
  "kernelspec": {
   "display_name": "Python 3 (ipykernel)",
   "language": "python",
   "name": "python3"
  },
  "language_info": {
   "codemirror_mode": {
    "name": "ipython",
    "version": 3
   },
   "file_extension": ".py",
   "mimetype": "text/x-python",
   "name": "python",
   "nbconvert_exporter": "python",
   "pygments_lexer": "ipython3",
   "version": "3.8.8"
  }
 },
 "nbformat": 4,
 "nbformat_minor": 5
}
