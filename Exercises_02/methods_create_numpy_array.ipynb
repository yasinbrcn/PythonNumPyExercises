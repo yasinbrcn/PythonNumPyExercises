{
 "cells": [
  {
   "cell_type": "markdown",
   "id": "a338f9a8-9803-4b7b-a075-04772307c5d5",
   "metadata": {},
   "source": [
    "## Methods of Create NumPy Array"
   ]
  },
  {
   "cell_type": "markdown",
   "id": "93544f17-cc48-433c-b206-6133223e14f6",
   "metadata": {
    "tags": []
   },
   "source": [
    "### .Method_1: np.zeros()\n",
    "**np.zeros():** This method use for create a array with all elements are zero.<br/>\n",
    "**Example_1:** Create a 10 elements array with all elements zeros.\n",
    "```python\n",
    "import numpy as np\n",
    "print(np.zeros(10))\n",
    "```\n",
    "**Example_2:** Create a 10 elements array with all elements zeros. Let the data type be \"int\".\n",
    "```python\n",
    "import numpy as np\n",
    "print(np.zeros(10,dtype=\"int\"))\n",
    "```\n",
    "**Example_3:** Create a 10 elements array with all elements zeros. Let the array be created from 3 rows and 5 columns.\n",
    "```python\n",
    "import numpy as np\n",
    "print(np.zeros((3,5),dtype=\"int\"))\n",
    "```"
   ]
  },
  {
   "cell_type": "markdown",
   "id": "414e9448-b6e8-47ab-a47d-00f7bd1e765f",
   "metadata": {},
   "source": [
    "### .Method_2: np.ones()\n",
    "np.ones():** This method use for create a array with all elements are one.<br/>\n",
    "**Example_1:** Create a 10 elements array with all elements one.\n",
    "```python\n",
    "import numpy as np\n",
    "print(np.ones(10,dtype=\"int\"))\n",
    "```\n",
    "**Example_2:** Create a 10 elements array with all elements ones. Let the array be created from 2 rows and 4 columns.\n",
    "```python\n",
    "import numpy as np\n",
    "print(np.ones((2,4),dtype=\"int\"))\n",
    "```"
   ]
  },
  {
   "cell_type": "code",
   "execution_count": null,
   "id": "0372cafd-a998-4050-a470-60ca994f31ed",
   "metadata": {},
   "outputs": [],
   "source": []
  }
 ],
 "metadata": {
  "kernelspec": {
   "display_name": "Python 3 (ipykernel)",
   "language": "python",
   "name": "python3"
  },
  "language_info": {
   "codemirror_mode": {
    "name": "ipython",
    "version": 3
   },
   "file_extension": ".py",
   "mimetype": "text/x-python",
   "name": "python",
   "nbconvert_exporter": "python",
   "pygments_lexer": "ipython3",
   "version": "3.8.8"
  }
 },
 "nbformat": 4,
 "nbformat_minor": 5
}
